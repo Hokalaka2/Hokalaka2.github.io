{
 "cells": [
  {
   "cell_type": "markdown",
   "metadata": {},
   "source": [
    "---\n",
    "title: Women in Data Science Blog Post\n",
    "author: Otis Milliken\n",
    "date: '2024-03-4'\n",
    "description: \"Blog Post for CS0451\"\n",
    "format: html\n",
    "---"
   ]
  },
  {
   "cell_type": "markdown",
   "metadata": {},
   "source": [
    "# Women's in Data Science Blog Post"
   ]
  },
  {
   "cell_type": "markdown",
   "metadata": {},
   "source": [
    "# Abstract"
   ]
  },
  {
   "cell_type": "markdown",
   "metadata": {},
   "source": [
    "# Reading Questions"
   ]
  },
  {
   "cell_type": "markdown",
   "metadata": {},
   "source": [
    "Why is it a problem that women are underrepresented in computing, math, and engineering? For whom is it a problem?\n",
    "\n",
    "It seems that the underrepresentation of women in these fields also hurt men. One finding from India found that male leaders held less implicit bias when they had female leadership alongside them (Beaman et al., 2009). "
   ]
  },
  {
   "cell_type": "markdown",
   "metadata": {},
   "source": [
    "How is the representation and status of women in computing today different from the 1950s and 1960s? What are some of the forces that brought on this change?\n",
    "\n",
    "During World War 2, we actually saw a majority of women in the computing industry. This declined drastically after the war but in 1950s and 1960s the number of women in computing was similar to what it is today (around 26%). The percentaged reached a peak in the 1990s with around 35% of the computing workforce being women. Computing during the 1950s and 1960s was largely seen as an administrative extension and thereby women were encouraged to participate in large numbers. The decline after the 1990s is often attributed to the rise of personal computers which were seen as new toys for boys and the growing interest in the area. This early experience gave them an advantage as the computing market expanded. "
   ]
  },
  {
   "cell_type": "markdown",
   "metadata": {},
   "source": [
    "Which of the barriers and unequal challenges described in the section “Why So Few?” can be eroded by events that spotlight the achievement of women in STEM?\n",
    "\n",
    "Having spotlight on women in the industry is an important step to reducing stigma and feelings of isolation while also giving role models for women in computer science. A third of women in private-sector technical jobs feel extremeley isolated at work and four out of ten female engineers reported a lack of role models. The book mentions how seeing other women in leadership roles can actually help women from the harmful effect of stereotyping effect (Van Loo & Rydell, 2014). These effects have a cascade effect as increase in female representation leads to more representation which further reduces feelings of isolation and increases representation. \n",
    "\n",
    "These talks also begin the process of building social networks which has predominantly been dominated by men. The book highlights how research has identified that these male-dominated social networks exclude women (Faulkner, 2009a). Having women talk about their professional experiences and connect with students begins the process of opening up the network to women. "
   ]
  },
  {
   "cell_type": "markdown",
   "metadata": {},
   "source": [
    "# First Lightning Talk\n",
    "\n",
    "Amy Yuen's talk discussed whether the United Nation Security Council is truly a Democratic Institution. On the onset, the voting rules seems to inherently favor the powerful since certain members are given veto powers. Why do other countries then spend significant resources and money on running for seats on the Security Council even if they have significantly less power? The talk analysis two different ways to look at democratic institutions: Institutional Rules which contains the voting inside the council and serving on the council; and Representation which looks at which issues are discussed and what the participation level of the non-permanent members are. The overall findings were that while the security council institutional rules aren't very democratic, it is fairly representative and inclusive. From the talk, I learned about how one can use data for issues that are not necessarily data oriented. I wouldn't at first think to use data analysis to come to a conclusion about the level of democracy of an institution since it feels more vague than other issues but now I do think it can be very useful to back up ones claims."
   ]
  },
  {
   "cell_type": "markdown",
   "metadata": {},
   "source": [
    "# Second Lightning Talk Jessica L'Roe\n",
    "\n",
    "Jessica L'Roe's talk was more a cursery overview of some of the projects that she has worked on. \n",
    "\n",
    "\n",
    "In College, only had one woman professor. Grew up in North Carolina and had to constantly fight expectations\n",
    "\n",
    "\n",
    "Work She's Done: \n",
    "\n",
    "Land Registration in Brazil\n",
    "    Registering people's land to help prove culpability for deforestation\n",
    "\n",
    "Formalizing Gold Mining in Peru\n",
    "\n",
    "Landscape Changes around Kibale National Park, Uganda\n",
    "    Who is planting tree and why are they planting trees. \n",
    "    Lots owned by non local people\n",
    "Lots analysis in Uganda.\n",
    "    Mother's investing in education instead of land.\n",
    "\n",
    "Women are not a rarity in the field anymore. Should go for it if you can.  "
   ]
  },
  {
   "cell_type": "markdown",
   "metadata": {},
   "source": [
    "# Third Lightning Talk"
   ]
  },
  {
   "cell_type": "markdown",
   "metadata": {},
   "source": [
    "# Keynote \n",
    "\n",
    "CS + Stats + Domain Expertise\n",
    "Data Science is the Intersection of all three\n",
    "\n",
    "Many of different domain expertise\n",
    "\n",
    "Social Studies taught me:\n",
    "Skill: Use Context to understand Primary Sources \n",
    "which will turn into\n",
    "Use Context to understand Data\n",
    "\n",
    "Instead of using only regression loss score. Also use a classification score\n",
    "    - Showed many fewer patients in the control group score higher than the PTSD group\n",
    "    - Context was necessary to come up with this technique\n",
    "\n",
    "Discipline isn't purely a topic but also a discourse. \"Disciplines are communities\". \n",
    "\n",
    "Computer Scientist often used computer science research methods on humans. However these often are flawed. Need people from a variety of fields. \n",
    "- One example, frame questions with similar levels of abstraction.\n",
    "\n",
    "Fairness Check before Data Scientist even fit the model.\n",
    "- How to make objective fairness check?\n",
    "\n",
    "Data Collection and Model doesn't have to be biased\n",
    "However the World is inherently biased which means we have to think about larger bias. \n",
    "\n",
    "Different answers to whether we can make fair algorithms\n",
    "- If you accept to lose accuracy, you can improve fairness\n",
    "- Some people just think it isn't possible and should be tried\n",
    "- Still progress to made\n",
    "\n",
    "Choice of target variable (proxy for what we trying to predict) matters a lot\n",
    "\n",
    "Laws don't move as fast as code because they need to be socially discussed. Code move super fast."
   ]
  },
  {
   "cell_type": "markdown",
   "metadata": {},
   "source": [
    "# Notes\n",
    "\n"
   ]
  },
  {
   "cell_type": "markdown",
   "metadata": {},
   "source": []
  }
 ],
 "metadata": {
  "language_info": {
   "name": "python"
  }
 },
 "nbformat": 4,
 "nbformat_minor": 2
}
